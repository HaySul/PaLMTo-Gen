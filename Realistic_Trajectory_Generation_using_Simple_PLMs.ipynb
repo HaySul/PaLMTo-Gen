{
  "nbformat": 4,
  "nbformat_minor": 0,
  "metadata": {
    "colab": {
      "provenance": []
    },
    "kernelspec": {
      "name": "python3",
      "display_name": "Python 3"
    },
    "language_info": {
      "name": "python"
    }
  },
  "cells": [
    {
      "cell_type": "code",
      "execution_count": null,
      "metadata": {
        "id": "7grAcwsn5spZ"
      },
      "outputs": [],
      "source": [
        "!pip install Palmto-gen"
      ]
    },
    {
      "cell_type": "markdown",
      "source": [
        "**Load Data:**  The Palmto_gen package has a sample file of 30k taxi trajectories from the city of Porto included that we can use for demonstration."
      ],
      "metadata": {
        "id": "zZjJddSaHIwo"
      }
    },
    {
      "cell_type": "code",
      "source": [
        "import pkg_resources\n",
        "import pandas as pd\n",
        "\n",
        "sample_data_path = pkg_resources.resource_filename('Palmto_gen', 'data/porto_sample_data.pkl')\n",
        "df = pd.read_pickle(sample_data_path)\n",
        "df.head()"
      ],
      "metadata": {
        "id": "KxUIDrjQ53nj"
      },
      "execution_count": null,
      "outputs": []
    },
    {
      "cell_type": "markdown",
      "source": [
        "Next, we convert the trajectories into *'sentences'* using the following steps:\n",
        "1. **Create Shapely Points:** For each latitude-longitude coordinate pair, create a Shapely Point object.\n",
        "2. **Overlay a Grid**: Overlay a grid of a specific size over the area covered by the trajectories.\n",
        "3. Assign Unique IDs to Grid Cells\n",
        "4. **Merge the shapely points with the cell:** representing each point by the ID of the cell it fall into."
      ],
      "metadata": {
        "id": "7OJlGq68HYi_"
      }
    },
    {
      "cell_type": "code",
      "source": [
        "import geopandas as gpd\n",
        "from Palmto_gen import ConvertToToken\n",
        "\n",
        "study_area_path = pkg_resources.resource_filename('Palmto_gen', 'data/porto.geojson')\n",
        "study_area =  gpd.read_file(study_area_path)\n",
        "\n",
        "TokenCreator = ConvertToToken(df, study_area, cell_size = 50)\n",
        "grid, sentence_df = TokenCreator.create_tokens()\n",
        "sentence_df.head()"
      ],
      "metadata": {
        "id": "Kwi1-65e_CVN"
      },
      "execution_count": null,
      "outputs": []
    },
    {
      "cell_type": "markdown",
      "source": [
        "**Create n-grams:** from the *'sentences'* we formed in the previous step."
      ],
      "metadata": {
        "id": "-NJCfkNfHc1m"
      }
    },
    {
      "cell_type": "code",
      "source": [
        "from Palmto_gen import NgramGenerator\n",
        "\n",
        "ngram_model = NgramGenerator(sentence_df)\n",
        "ngrams, start_end_points = ngram_model.create_ngrams()"
      ],
      "metadata": {
        "id": "TdRuooBXHfRY"
      },
      "execution_count": null,
      "outputs": []
    },
    {
      "cell_type": "markdown",
      "source": [
        "**Approach 1: Generating length-constrained trajectories\n",
        "from a given point**\n",
        "\n",
        "Start the process by selecting a token from\n",
        "our bigram corpus and specifying the length (number of points) for\n",
        "our trajectory and the number of new trajectories we want. The model then proceeds to construct the trajectory by iteratively generating and adding points\n",
        "until the predetermined length is reached."
      ],
      "metadata": {
        "id": "xrFafzGFHorB"
      }
    },
    {
      "cell_type": "code",
      "source": [
        "from Palmto_gen import TrajGenerator\n",
        "\n",
        "n = 10000\n",
        "sentence_length = 30\n",
        "traj_generator = TrajGenerator(ngrams, start_end_points, n, grid)\n",
        "new_trajs_app1, new_trajs_app1_gdf = traj_generator. generate_trajs_using_origin(sentence_length)\n",
        "new_trajs_app1.head()"
      ],
      "metadata": {
        "id": "jUPOIl_xHoK8"
      },
      "execution_count": null,
      "outputs": []
    },
    {
      "cell_type": "markdown",
      "source": [
        "**Approach 2: Generating trajectories between two given\n",
        "points**\n",
        "\n",
        "Select one origin and one destination point\n",
        "from one of our original trajectories and generate trajectories that\n",
        "connect these two points."
      ],
      "metadata": {
        "id": "am60-a0eH4Pl"
      }
    },
    {
      "cell_type": "code",
      "source": [
        "n = 10000\n",
        "traj_generator = TrajGenerator(ngrams, start_end_points, n, grid)\n",
        "new_trajs_app2, new_trajs_app2_gdf = traj_generator.generate_trajs_using_origin_destination()\n",
        "new_trajs_app2.head()"
      ],
      "metadata": {
        "id": "mN3pN_zyH6nW"
      },
      "execution_count": null,
      "outputs": []
    },
    {
      "cell_type": "markdown",
      "source": [
        "**Save the new dataset.**"
      ],
      "metadata": {
        "id": "PMDyCY5NLXah"
      }
    },
    {
      "cell_type": "code",
      "source": [
        "new_trajs_app1.to_pickle('generated_trajs_app1.pkl')\n",
        "new_trajs_app1.to_csv('generated_trajs_app1.csv')"
      ],
      "metadata": {
        "id": "ecrpLhF1Lbah"
      },
      "execution_count": 13,
      "outputs": []
    },
    {
      "cell_type": "markdown",
      "source": [
        "**Plot**: a sample of 1000 trajectories from the original dataset and the dataset generated using approach 1."
      ],
      "metadata": {
        "id": "_xkwsKbcIA_E"
      }
    },
    {
      "cell_type": "code",
      "source": [
        "from Palmto_gen import DisplayTrajs\n",
        "\n",
        "original_trajs = sentence_df['geometry'].sample(1000).to_list()\n",
        "generated_trajs = new_trajs_app1_gdf['geometry'].sample(1000).to_list()\n",
        "\n",
        "display_trajs = DisplayTrajs(original_trajs, generated_trajs)\n",
        "display_trajs.display_maps()"
      ],
      "metadata": {
        "id": "YnQUg1KNIAJ8"
      },
      "execution_count": null,
      "outputs": []
    },
    {
      "cell_type": "markdown",
      "source": [
        "**Plot**: a sample of 1000 trajectories from the original dataset and the dataset generated using approach 2.\n"
      ],
      "metadata": {
        "id": "AlakNuPzIik6"
      }
    },
    {
      "cell_type": "code",
      "source": [
        "original_trajs = sentence_df['geometry'].sample(1000).to_list()\n",
        "generated_trajs = new_trajs_app2_gdf['geometry'].sample(1000).to_list()\n",
        "\n",
        "display_trajs = DisplayTrajs(original_trajs, generated_trajs)\n",
        "display_trajs.display_maps()"
      ],
      "metadata": {
        "id": "P4lYhSNVIVS7"
      },
      "execution_count": null,
      "outputs": []
    },
    {
      "cell_type": "markdown",
      "source": [
        "**Heat Map**: comparing the original trajectories with the trajectories generated using approach 1."
      ],
      "metadata": {
        "id": "Ohlp_P6MIpsC"
      }
    },
    {
      "cell_type": "code",
      "source": [
        "import matplotlib.pyplot as plt\n",
        "\n",
        "sample_size = 5000\n",
        "fig, axes = plt.subplots(1, 2, figsize=(20, 8))\n",
        "\n",
        "display_trajs.plot_heat_map(sentence_df.sample(sample_size), study_area, axes[0], cell_size = 800)\n",
        "axes[0].set_title('Original Trajectories')\n",
        "\n",
        "display_trajs.plot_heat_map(new_trajs_app1_gdf.sample(sample_size), study_area, axes[1], cell_size = 800)\n",
        "axes[1].set_title('Generated Trajectories')\n",
        "\n",
        "plt.tight_layout()\n",
        "plt.show()"
      ],
      "metadata": {
        "id": "hU4dG8iCIrvf"
      },
      "execution_count": null,
      "outputs": []
    },
    {
      "cell_type": "markdown",
      "source": [
        "**Heat Map**: comparing the original trajectories with the trajectories generated using approach 2."
      ],
      "metadata": {
        "id": "aRfQy3wVIvIg"
      }
    },
    {
      "cell_type": "code",
      "source": [
        "import matplotlib.pyplot as plt\n",
        "\n",
        "fig, axes = plt.subplots(1, 2, figsize=(20, 10))\n",
        "\n",
        "display_trajs.plot_heat_map(sentence_df.sample(sample_size), study_area, axes[0], cell_size = 800)\n",
        "axes[0].set_title('Original Trajectories')\n",
        "\n",
        "display_trajs.plot_heat_map(new_trajs_app2_gdf.sample(sample_size), study_area, axes[1], cell_size = 800)\n",
        "axes[1].set_title('Generated Trajectories')\n",
        "\n",
        "plt.tight_layout()\n",
        "plt.show()"
      ],
      "metadata": {
        "id": "OtGofEqTIxzg"
      },
      "execution_count": null,
      "outputs": []
    }
  ]
}